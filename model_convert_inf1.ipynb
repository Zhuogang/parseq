{
 "cells": [
  {
   "attachments": {},
   "cell_type": "markdown",
   "metadata": {},
   "source": [
    "## 1. libraries"
   ]
  },
  {
   "cell_type": "code",
   "execution_count": 2,
   "metadata": {},
   "outputs": [],
   "source": [
    "import torch\n",
    "# import torch.neuron\n",
    "import torch_neuron\n",
    "\n",
    "import torchvision\n",
    "from torchvision import transforms as T\n",
    "from PIL import Image\n",
    "import os\n",
    "from tqdm import tqdm\n",
    "import time\n",
    "preprocess_parseq = T.Compose([\n",
    "            T.Resize((32, 128), T.InterpolationMode.BICUBIC),\n",
    "            T.ToTensor(),\n",
    "            T.Normalize(0.5, 0.5)\n",
    "        ])"
   ]
  },
  {
   "cell_type": "code",
   "execution_count": 3,
   "metadata": {},
   "outputs": [],
   "source": [
    "def main_batch(batch_size=8, device_type=\"cpu\", img_folder=\"/home/ubuntu/parseq/digits_demo\", img_type=\"jpg\"):\n",
    "    if device_type == \"cpu\":\n",
    "        device = torch.device(\"cpu\")\n",
    "        parseq = torch.hub.load('baudm/parseq', 'parseq', pretrained=True).eval()\n",
    "    elif device_type == \"cuda\":\n",
    "        device = torch.device(\"cuda:0\")\n",
    "        parseq = torch.hub.load('baudm/parseq', 'parseq', pretrained=True).eval().cuda()\n",
    "\n",
    "    test_img_path = \"demo_images/art-01107.jpg\"\n",
    "    img = Image.open(test_img_path).convert('RGB')\n",
    "    # Preprocess. Model expects a batch of images with shape: (B, C, H, W)\n",
    "    img = preprocess_parseq(img.convert('RGB')).unsqueeze(0).to(device)\n",
    "\n",
    "    logits = parseq(img)\n",
    "    logits.shape  # torch.Size([1, 26, 95]), 94 characters + [EOS] symbol\n",
    "\n",
    "    # Greedy decoding\n",
    "    pred = logits.softmax(-1)\n",
    "    label, confidence = parseq.tokenizer.decode(pred)\n",
    "    print(confidence)\n",
    "    print('Decoded label = {}'.format(label[0]))\n",
    "\n",
    "    dummy_input = torch.rand(batch_size, 3, 32, 128) \n",
    "\n",
    "    output_path = \"parseq_{}_b{}_torchscript.pt\".format(device_type, batch_size)\n",
    "\n",
    "    # To ONNX\n",
    "    parseq.to_torchscript(file_path=output_path, method=\"script\", example_inputs=dummy_input)  # opset v14 or newer is required\n",
    "    \n",
    "    ts_model = torch.jit.load(output_path)\n",
    "    logits = ts_model(img)\n",
    "    logits.shape  # torch.Size([1, 26, 95]), 94 characters + [EOS] symbol\n",
    "    print(logits.shape)\n",
    "    # Greedy decoding\n",
    "    pred = logits.softmax(-1)\n",
    "    label, confidence = parseq.tokenizer.decode(pred)\n",
    "    print('Decoded label = {}'.format(label[0]))\n",
    "    c = 0\n",
    "    x = 0\n",
    "    if os.path.exists(img_folder):\n",
    "        for filename in tqdm(os.listdir(img_folder)):\n",
    "            if filename.endswith(img_type):\n",
    "                x += 1\n",
    "                img_path = os.path.join(img_folder, filename)\n",
    "                # print(img_path)\n",
    "                \n",
    "                img_input = Image.open(img_path).convert('RGB')\n",
    "                # Preprocess. Model expects a batch of images with shape: (B, C, H, W)\n",
    "                img_input = preprocess_parseq(img_input.convert('RGB')).unsqueeze(0).to(device)\n",
    "                # print(img_input)\n",
    "                with torch.no_grad():  \n",
    "                    logits_ts = ts_model(img_input)\n",
    "                    logits = parseq(img_input)\n",
    "\n",
    "                pred = logits_ts.softmax(-1)\n",
    "                label_ts, confidence = parseq.tokenizer.decode(pred)\n",
    "                # print(confidence)\n",
    "                # print('Decoded label = {}'.format(label_ts[0]))\n",
    "                \n",
    "                pred = logits.softmax(-1)\n",
    "                label, confidence = parseq.tokenizer.decode(pred)\n",
    "                # print(confidence)\n",
    "                # print('Decoded label = {}'.format(label[0]))\n",
    "                \n",
    "                if label[0] == label_ts[0]:\n",
    "                    # print(\"matched\")\n",
    "                    c += 1\n",
    "                else:\n",
    "                    print(label[0])\n",
    "                    print(label_ts[0])\n",
    "                    # c += 1\n",
    "    print(c, x)\n"
   ]
  },
  {
   "cell_type": "code",
   "execution_count": 4,
   "metadata": {},
   "outputs": [
    {
     "name": "stderr",
     "output_type": "stream",
     "text": [
      "Using cache found in /home/ubuntu/.cache/torch/hub/baudm_parseq_main\n"
     ]
    },
    {
     "name": "stdout",
     "output_type": "stream",
     "text": [
      "[tensor([0.9979, 0.9996, 0.9999, 0.9998, 0.9869, 0.9998, 0.9439, 0.9768, 0.9938,\n",
      "        0.9981], grad_fn=<SliceBackward0>)]\n",
      "Decoded label = CHEWBACCA\n"
     ]
    },
    {
     "name": "stderr",
     "output_type": "stream",
     "text": [
      "/home/ubuntu/.local/lib/python3.6/site-packages/torch/jit/_recursive.py:235: UserWarning: 'norm' was found in ScriptModule constants,  but it is a non-constant submodule. Consider removing it.\n",
      "  \" but it is a non-constant {}. Consider removing it.\".format(name, hint))\n",
      "/home/ubuntu/.local/lib/python3.6/site-packages/torch/jit/_recursive.py:614: LightningDeprecationWarning: The `LightningModule.loaded_optimizer_states_dict` property is deprecated in v1.4 and will be removed in v1.6.\n",
      "  item = getattr(mod, name, None)\n"
     ]
    },
    {
     "name": "stdout",
     "output_type": "stream",
     "text": [
      "torch.Size([1, 26, 95])\n",
      "Decoded label = CHEWBACCA\n"
     ]
    },
    {
     "name": "stderr",
     "output_type": "stream",
     "text": [
      "100%|██████████| 73/73 [00:10<00:00,  7.11it/s]"
     ]
    },
    {
     "name": "stdout",
     "output_type": "stream",
     "text": [
      "73 73\n"
     ]
    },
    {
     "name": "stderr",
     "output_type": "stream",
     "text": [
      "\n"
     ]
    }
   ],
   "source": [
    "main_batch(batch_size=4)"
   ]
  },
  {
   "cell_type": "code",
   "execution_count": 10,
   "metadata": {},
   "outputs": [
    {
     "name": "stderr",
     "output_type": "stream",
     "text": [
      "Using cache found in /home/ubuntu/.cache/torch/hub/baudm_parseq_main\n",
      "/home/ubuntu/.local/lib/python3.6/site-packages/torch/jit/_recursive.py:235: UserWarning: 'norm' was found in ScriptModule constants,  but it is a non-constant submodule. Consider removing it.\n",
      "  \" but it is a non-constant {}. Consider removing it.\".format(name, hint))\n"
     ]
    },
    {
     "ename": "NotImplementedError",
     "evalue": "Could not find a torch implementation for prim::If#14",
     "output_type": "error",
     "traceback": [
      "\u001b[0;31m---------------------------------------------------------------------------\u001b[0m",
      "\u001b[0;31mNotImplementedError\u001b[0m                       Traceback (most recent call last)",
      "\u001b[0;32m<ipython-input-10-11ea494b2825>\u001b[0m in \u001b[0;36m<module>\u001b[0;34m\u001b[0m\n\u001b[1;32m     11\u001b[0m \u001b[0;31m# allowed_ops.remove(\"aten::view\")\u001b[0m\u001b[0;34m\u001b[0m\u001b[0;34m\u001b[0m\u001b[0;34m\u001b[0m\u001b[0m\n\u001b[1;32m     12\u001b[0m \u001b[0;34m\u001b[0m\u001b[0m\n\u001b[0;32m---> 13\u001b[0;31m \u001b[0mneuron_model\u001b[0m \u001b[0;34m=\u001b[0m \u001b[0mtorch\u001b[0m\u001b[0;34m.\u001b[0m\u001b[0mneuron\u001b[0m\u001b[0;34m.\u001b[0m\u001b[0mtrace\u001b[0m\u001b[0;34m(\u001b[0m\u001b[0mts_model\u001b[0m\u001b[0;34m,\u001b[0m \u001b[0mexample_inputs\u001b[0m\u001b[0;34m=\u001b[0m\u001b[0minput_holder\u001b[0m\u001b[0;34m,\u001b[0m \u001b[0mop_whitelist\u001b[0m\u001b[0;34m=\u001b[0m\u001b[0mallowed_ops\u001b[0m\u001b[0;34m)\u001b[0m\u001b[0;34m\u001b[0m\u001b[0;34m\u001b[0m\u001b[0m\n\u001b[0m\u001b[1;32m     14\u001b[0m \u001b[0mtorch\u001b[0m\u001b[0;34m.\u001b[0m\u001b[0mjit\u001b[0m\u001b[0;34m.\u001b[0m\u001b[0msave\u001b[0m\u001b[0;34m(\u001b[0m\u001b[0mneuron_model\u001b[0m\u001b[0;34m,\u001b[0m\u001b[0;34m'parseq_model_traced_neuron_new.pt'\u001b[0m\u001b[0;34m)\u001b[0m\u001b[0;34m\u001b[0m\u001b[0;34m\u001b[0m\u001b[0m\n",
      "\u001b[0;32m~/.local/lib/python3.6/site-packages/torch_neuron/convert.py\u001b[0m in \u001b[0;36mtrace\u001b[0;34m(func, example_inputs, fallback, op_whitelist, minimum_segment_size, subgraph_builder_function, subgraph_inputs_pruning, skip_compiler, debug_must_trace, allow_no_ops_on_neuron, compiler_workdir, dynamic_batch_size, compiler_timeout, single_fusion_ratio_threshold, _neuron_trace, compiler_args, optimizations, verbose, **kwargs)\u001b[0m\n\u001b[1;32m    156\u001b[0m \u001b[0;34m\u001b[0m\u001b[0m\n\u001b[1;32m    157\u001b[0m     \u001b[0;31m# Translate the torch-script to a Graph object\u001b[0m\u001b[0;34m\u001b[0m\u001b[0;34m\u001b[0m\u001b[0;34m\u001b[0m\u001b[0m\n\u001b[0;32m--> 158\u001b[0;31m     \u001b[0mneuron_graph\u001b[0m\u001b[0;34m,\u001b[0m \u001b[0mjit_trace\u001b[0m \u001b[0;34m=\u001b[0m \u001b[0mto_graph\u001b[0m\u001b[0;34m(\u001b[0m\u001b[0mfunc\u001b[0m\u001b[0;34m,\u001b[0m \u001b[0mexample_inputs\u001b[0m\u001b[0;34m,\u001b[0m \u001b[0mreturn_trace\u001b[0m\u001b[0;34m=\u001b[0m\u001b[0;32mTrue\u001b[0m\u001b[0;34m,\u001b[0m \u001b[0;34m**\u001b[0m\u001b[0mkwargs\u001b[0m\u001b[0;34m)\u001b[0m\u001b[0;34m\u001b[0m\u001b[0;34m\u001b[0m\u001b[0m\n\u001b[0m\u001b[1;32m    159\u001b[0m \u001b[0;34m\u001b[0m\u001b[0m\n\u001b[1;32m    160\u001b[0m     \u001b[0;31m# Find PythonOp and print path to code if PythonOp exists\u001b[0m\u001b[0;34m\u001b[0m\u001b[0;34m\u001b[0m\u001b[0;34m\u001b[0m\u001b[0m\n",
      "\u001b[0;32m~/.local/lib/python3.6/site-packages/torch_neuron/convert.py\u001b[0m in \u001b[0;36mto_graph\u001b[0;34m(func_or_mod, example_inputs, return_trace, **kwargs)\u001b[0m\n\u001b[1;32m    232\u001b[0m                             getattr(jit_trace, 'name', None))\n\u001b[1;32m    233\u001b[0m     \u001b[0mneuron_graph\u001b[0m \u001b[0;34m=\u001b[0m \u001b[0mgraph\u001b[0m\u001b[0;34m.\u001b[0m\u001b[0mGraph\u001b[0m\u001b[0;34m(\u001b[0m\u001b[0moriginal_name\u001b[0m\u001b[0;34m)\u001b[0m\u001b[0;34m\u001b[0m\u001b[0;34m\u001b[0m\u001b[0m\n\u001b[0;32m--> 234\u001b[0;31m     \u001b[0mneuron_graph\u001b[0m\u001b[0;34m.\u001b[0m\u001b[0mimport_torchscript\u001b[0m\u001b[0;34m(\u001b[0m\u001b[0mjit_trace\u001b[0m\u001b[0;34m)\u001b[0m\u001b[0;34m\u001b[0m\u001b[0;34m\u001b[0m\u001b[0m\n\u001b[0m\u001b[1;32m    235\u001b[0m     \u001b[0mneuron_graph\u001b[0m\u001b[0;34m.\u001b[0m\u001b[0mexample_inputs\u001b[0m \u001b[0;34m=\u001b[0m \u001b[0mexample_inputs\u001b[0m\u001b[0;34m\u001b[0m\u001b[0;34m\u001b[0m\u001b[0m\n\u001b[1;32m    236\u001b[0m     \u001b[0mneuron_graph\u001b[0m \u001b[0;34m=\u001b[0m \u001b[0moptimize\u001b[0m\u001b[0;34m.\u001b[0m\u001b[0munroll_call_method\u001b[0m\u001b[0;34m(\u001b[0m\u001b[0mneuron_graph\u001b[0m\u001b[0;34m)\u001b[0m\u001b[0;34m\u001b[0m\u001b[0;34m\u001b[0m\u001b[0m\n",
      "\u001b[0;32m~/.local/lib/python3.6/site-packages/torch_neuron/graph.py\u001b[0m in \u001b[0;36mimport_torchscript\u001b[0;34m(self, script)\u001b[0m\n\u001b[1;32m     35\u001b[0m     \u001b[0;32mdef\u001b[0m \u001b[0mimport_torchscript\u001b[0m\u001b[0;34m(\u001b[0m\u001b[0mself\u001b[0m\u001b[0;34m,\u001b[0m \u001b[0mscript\u001b[0m\u001b[0;34m)\u001b[0m\u001b[0;34m:\u001b[0m\u001b[0;34m\u001b[0m\u001b[0;34m\u001b[0m\u001b[0m\n\u001b[1;32m     36\u001b[0m         \u001b[0mself\u001b[0m\u001b[0;34m.\u001b[0m\u001b[0mtorchscript\u001b[0m \u001b[0;34m=\u001b[0m \u001b[0mscript\u001b[0m\u001b[0;34m\u001b[0m\u001b[0;34m\u001b[0m\u001b[0m\n\u001b[0;32m---> 37\u001b[0;31m         \u001b[0mself\u001b[0m\u001b[0;34m.\u001b[0m\u001b[0mimport_jit_graph\u001b[0m\u001b[0;34m(\u001b[0m\u001b[0mscript\u001b[0m\u001b[0;34m.\u001b[0m\u001b[0mgraph\u001b[0m\u001b[0;34m)\u001b[0m\u001b[0;34m\u001b[0m\u001b[0;34m\u001b[0m\u001b[0m\n\u001b[0m\u001b[1;32m     38\u001b[0m \u001b[0;34m\u001b[0m\u001b[0m\n\u001b[1;32m     39\u001b[0m     \u001b[0;32mdef\u001b[0m \u001b[0mget_dummy_inputs\u001b[0m\u001b[0;34m(\u001b[0m\u001b[0mself\u001b[0m\u001b[0;34m)\u001b[0m\u001b[0;34m:\u001b[0m\u001b[0;34m\u001b[0m\u001b[0;34m\u001b[0m\u001b[0m\n",
      "\u001b[0;32m~/.local/lib/python3.6/site-packages/torch_neuron/graph.py\u001b[0m in \u001b[0;36mimport_jit_graph\u001b[0;34m(self, jit_graph)\u001b[0m\n\u001b[1;32m     54\u001b[0m         \u001b[0;32mfor\u001b[0m \u001b[0mjit_node\u001b[0m \u001b[0;32min\u001b[0m \u001b[0mjit_graph\u001b[0m\u001b[0;34m.\u001b[0m\u001b[0mnodes\u001b[0m\u001b[0;34m(\u001b[0m\u001b[0;34m)\u001b[0m\u001b[0;34m:\u001b[0m\u001b[0;34m\u001b[0m\u001b[0;34m\u001b[0m\u001b[0m\n\u001b[1;32m     55\u001b[0m             \u001b[0mop\u001b[0m \u001b[0;34m=\u001b[0m \u001b[0mself\u001b[0m\u001b[0;34m.\u001b[0m\u001b[0m_add_op\u001b[0m\u001b[0;34m(\u001b[0m\u001b[0;34m)\u001b[0m\u001b[0;34m\u001b[0m\u001b[0;34m\u001b[0m\u001b[0m\n\u001b[0;32m---> 56\u001b[0;31m             \u001b[0mop\u001b[0m\u001b[0;34m.\u001b[0m\u001b[0mimport_jit_node\u001b[0m\u001b[0;34m(\u001b[0m\u001b[0mjit_node\u001b[0m\u001b[0;34m,\u001b[0m \u001b[0mself\u001b[0m\u001b[0;34m)\u001b[0m\u001b[0;34m\u001b[0m\u001b[0;34m\u001b[0m\u001b[0m\n\u001b[0m\u001b[1;32m     57\u001b[0m             \u001b[0mself\u001b[0m\u001b[0;34m.\u001b[0m\u001b[0m_record_op\u001b[0m\u001b[0;34m(\u001b[0m\u001b[0mop\u001b[0m\u001b[0;34m)\u001b[0m\u001b[0;34m\u001b[0m\u001b[0;34m\u001b[0m\u001b[0m\n\u001b[1;32m     58\u001b[0m         \u001b[0mself\u001b[0m\u001b[0;34m.\u001b[0m\u001b[0moutput_uniques\u001b[0m \u001b[0;34m=\u001b[0m \u001b[0;34m[\u001b[0m\u001b[0mvalue\u001b[0m\u001b[0;34m.\u001b[0m\u001b[0munique\u001b[0m\u001b[0;34m(\u001b[0m\u001b[0;34m)\u001b[0m \u001b[0;32mfor\u001b[0m \u001b[0mvalue\u001b[0m \u001b[0;32min\u001b[0m \u001b[0mjit_graph\u001b[0m\u001b[0;34m.\u001b[0m\u001b[0moutputs\u001b[0m\u001b[0;34m(\u001b[0m\u001b[0;34m)\u001b[0m\u001b[0;34m]\u001b[0m\u001b[0;34m\u001b[0m\u001b[0;34m\u001b[0m\u001b[0m\n",
      "\u001b[0;32m~/.local/lib/python3.6/site-packages/torch_neuron/graph.py\u001b[0m in \u001b[0;36mimport_jit_node\u001b[0;34m(self, jit_node, graph)\u001b[0m\n\u001b[1;32m    311\u001b[0m             \u001b[0mself\u001b[0m\u001b[0;34m.\u001b[0m\u001b[0mscalar_args\u001b[0m \u001b[0;34m=\u001b[0m \u001b[0mjit_node\u001b[0m\u001b[0;34m.\u001b[0m\u001b[0mscalar_args\u001b[0m\u001b[0;34m(\u001b[0m\u001b[0;34m)\u001b[0m\u001b[0;34m\u001b[0m\u001b[0;34m\u001b[0m\u001b[0m\n\u001b[1;32m    312\u001b[0m             \u001b[0mself\u001b[0m\u001b[0;34m.\u001b[0m\u001b[0mpyobj\u001b[0m \u001b[0;34m=\u001b[0m \u001b[0mjit_node\u001b[0m\u001b[0;34m.\u001b[0m\u001b[0mpyobj\u001b[0m\u001b[0;34m(\u001b[0m\u001b[0;34m)\u001b[0m\u001b[0;34m\u001b[0m\u001b[0;34m\u001b[0m\u001b[0m\n\u001b[0;32m--> 313\u001b[0;31m         \u001b[0mself\u001b[0m\u001b[0;34m.\u001b[0m\u001b[0mfunc\u001b[0m \u001b[0;34m=\u001b[0m \u001b[0mget_function\u001b[0m\u001b[0;34m(\u001b[0m\u001b[0mself\u001b[0m\u001b[0;34m)\u001b[0m\u001b[0;34m\u001b[0m\u001b[0;34m\u001b[0m\u001b[0m\n\u001b[0m\u001b[1;32m    314\u001b[0m \u001b[0;34m\u001b[0m\u001b[0m\n\u001b[1;32m    315\u001b[0m     \u001b[0;32mdef\u001b[0m \u001b[0mimport_op\u001b[0m\u001b[0;34m(\u001b[0m\u001b[0mself\u001b[0m\u001b[0;34m,\u001b[0m \u001b[0mop\u001b[0m\u001b[0;34m)\u001b[0m\u001b[0;34m:\u001b[0m\u001b[0;34m\u001b[0m\u001b[0;34m\u001b[0m\u001b[0m\n",
      "\u001b[0;32m~/.local/lib/python3.6/site-packages/torch_neuron/resolve_function.py\u001b[0m in \u001b[0;36mget_function\u001b[0;34m(op)\u001b[0m\n\u001b[1;32m     84\u001b[0m     \u001b[0;31m# cases where an op does not have a schema or where we manually remove\u001b[0m\u001b[0;34m\u001b[0m\u001b[0;34m\u001b[0m\u001b[0;34m\u001b[0m\u001b[0m\n\u001b[1;32m     85\u001b[0m     \u001b[0;31m# the node from an operation (for example inplace operation replacment).\u001b[0m\u001b[0;34m\u001b[0m\u001b[0;34m\u001b[0m\u001b[0;34m\u001b[0m\u001b[0m\n\u001b[0;32m---> 86\u001b[0;31m     \u001b[0mschema\u001b[0m \u001b[0;34m=\u001b[0m \u001b[0mget_schema\u001b[0m\u001b[0;34m(\u001b[0m\u001b[0mop\u001b[0m\u001b[0;34m)\u001b[0m\u001b[0;34m\u001b[0m\u001b[0;34m\u001b[0m\u001b[0m\n\u001b[0m\u001b[1;32m     87\u001b[0m     \u001b[0;32mreturn\u001b[0m \u001b[0mfunctools\u001b[0m\u001b[0;34m.\u001b[0m\u001b[0mpartial\u001b[0m\u001b[0;34m(\u001b[0m\u001b[0mfunc_from_schema\u001b[0m\u001b[0;34m,\u001b[0m \u001b[0mschema\u001b[0m\u001b[0;34m)\u001b[0m\u001b[0;34m\u001b[0m\u001b[0;34m\u001b[0m\u001b[0m\n",
      "\u001b[0;32m~/.local/lib/python3.6/site-packages/torch_neuron/resolve_function.py\u001b[0m in \u001b[0;36mget_schema\u001b[0;34m(op)\u001b[0m\n\u001b[1;32m     54\u001b[0m         \u001b[0;32mreturn\u001b[0m \u001b[0mschema\u001b[0m\u001b[0;34m\u001b[0m\u001b[0;34m\u001b[0m\u001b[0m\n\u001b[1;32m     55\u001b[0m \u001b[0;34m\u001b[0m\u001b[0m\n\u001b[0;32m---> 56\u001b[0;31m     \u001b[0;32mraise\u001b[0m \u001b[0mNotImplementedError\u001b[0m\u001b[0;34m(\u001b[0m\u001b[0;34mf'Could not find a torch implementation for {op.name}'\u001b[0m\u001b[0;34m)\u001b[0m\u001b[0;34m\u001b[0m\u001b[0;34m\u001b[0m\u001b[0m\n\u001b[0m\u001b[1;32m     57\u001b[0m \u001b[0;34m\u001b[0m\u001b[0m\n\u001b[1;32m     58\u001b[0m \u001b[0;34m\u001b[0m\u001b[0m\n",
      "\u001b[0;31mNotImplementedError\u001b[0m: Could not find a torch implementation for prim::If#14"
     ]
    }
   ],
   "source": [
    "batch_size = 4\n",
    "parseq = torch.hub.load('baudm/parseq', 'parseq', pretrained=True).eval()\n",
    "\n",
    "output_path = \"parseq_{}_b{}_torchscript.pt\".format(\"cpu\", batch_size)\n",
    "input_holder = torch.rand([1, 3, 32, 128])\n",
    "\n",
    "\n",
    "ts_model = parseq.to_torchscript(method=\"trace\", example_inputs=input_holder)\n",
    "\n",
    "allowed_ops = set(torch.neuron.get_supported_operations())\n",
    "# allowed_ops.remove(\"aten::view\")\n",
    "\n",
    "neuron_model = torch.neuron.trace(ts_model, example_inputs=input_holder, op_whitelist=allowed_ops)\n",
    "torch.jit.save(neuron_model,'parseq_model_traced_neuron_new.pt')"
   ]
  },
  {
   "cell_type": "code",
   "execution_count": 8,
   "metadata": {},
   "outputs": [
    {
     "name": "stdout",
     "output_type": "stream",
     "text": [
      "torch.Size([4, 3, 32, 128])\n"
     ]
    },
    {
     "ename": "RuntimeError",
     "evalue": "The following operation failed in the TorchScript interpreter.\nTraceback of TorchScript (most recent call last):\n/home/ubuntu/.local/lib/python3.6/site-packages/torch_neuron/decorators.py(381): forward\n/home/ubuntu/.local/lib/python3.6/site-packages/torch/nn/modules/module.py(1090): _slow_forward\n/home/ubuntu/.local/lib/python3.6/site-packages/torch/nn/modules/module.py(1102): _call_impl\n/home/ubuntu/.local/lib/python3.6/site-packages/torch_neuron/graph.py(580): __call__\n/home/ubuntu/.local/lib/python3.6/site-packages/torch_neuron/graph.py(209): run_op\n/home/ubuntu/.local/lib/python3.6/site-packages/torch_neuron/graph.py(198): __call__\n/home/ubuntu/.local/lib/python3.6/site-packages/torch_neuron/runtime.py(69): forward\n/home/ubuntu/.local/lib/python3.6/site-packages/torch/nn/modules/module.py(1090): _slow_forward\n/home/ubuntu/.local/lib/python3.6/site-packages/torch/nn/modules/module.py(1102): _call_impl\n/home/ubuntu/.local/lib/python3.6/site-packages/torch/jit/_trace.py(965): trace_module\n/home/ubuntu/.local/lib/python3.6/site-packages/torch/jit/_trace.py(750): trace\n/home/ubuntu/.local/lib/python3.6/site-packages/torch_neuron/tensorboard.py(324): tb_parse\n/home/ubuntu/.local/lib/python3.6/site-packages/torch_neuron/tensorboard.py(550): tb_graph\n/home/ubuntu/.local/lib/python3.6/site-packages/torch_neuron/decorators.py(491): maybe_generate_tb_graph_def\n/home/ubuntu/.local/lib/python3.6/site-packages/torch_neuron/convert.py(552): maybe_determine_names_from_tensorboard\n/home/ubuntu/.local/lib/python3.6/site-packages/torch_neuron/convert.py(211): trace\n<ipython-input-5-52d5f6e884d0>(13): <module>\n/home/ubuntu/anaconda3/envs/aws_neuron_pytorch_p36/lib/python3.6/site-packages/IPython/core/interactiveshell.py(3343): run_code\n/home/ubuntu/anaconda3/envs/aws_neuron_pytorch_p36/lib/python3.6/site-packages/IPython/core/interactiveshell.py(3263): run_ast_nodes\n/home/ubuntu/anaconda3/envs/aws_neuron_pytorch_p36/lib/python3.6/site-packages/IPython/core/interactiveshell.py(3072): run_cell_async\n/home/ubuntu/anaconda3/envs/aws_neuron_pytorch_p36/lib/python3.6/site-packages/IPython/core/async_helpers.py(68): _pseudo_sync_runner\n/home/ubuntu/anaconda3/envs/aws_neuron_pytorch_p36/lib/python3.6/site-packages/IPython/core/interactiveshell.py(2895): _run_cell\n/home/ubuntu/anaconda3/envs/aws_neuron_pytorch_p36/lib/python3.6/site-packages/IPython/core/interactiveshell.py(2867): run_cell\n/home/ubuntu/anaconda3/envs/aws_neuron_pytorch_p36/lib/python3.6/site-packages/ipykernel/zmqshell.py(539): run_cell\n/home/ubuntu/anaconda3/envs/aws_neuron_pytorch_p36/lib/python3.6/site-packages/ipykernel/ipkernel.py(302): do_execute\n/home/ubuntu/anaconda3/envs/aws_neuron_pytorch_p36/lib/python3.6/site-packages/contextvars/__init__.py(38): run\n/home/ubuntu/anaconda3/envs/aws_neuron_pytorch_p36/lib/python3.6/site-packages/tornado/gen.py(234): wrapper\n/home/ubuntu/anaconda3/envs/aws_neuron_pytorch_p36/lib/python3.6/site-packages/ipykernel/kernelbase.py(538): execute_request\n/home/ubuntu/anaconda3/envs/aws_neuron_pytorch_p36/lib/python3.6/site-packages/contextvars/__init__.py(38): run\n/home/ubuntu/anaconda3/envs/aws_neuron_pytorch_p36/lib/python3.6/site-packages/tornado/gen.py(234): wrapper\n/home/ubuntu/anaconda3/envs/aws_neuron_pytorch_p36/lib/python3.6/site-packages/ipykernel/kernelbase.py(261): dispatch_shell\n/home/ubuntu/anaconda3/envs/aws_neuron_pytorch_p36/lib/python3.6/site-packages/contextvars/__init__.py(38): run\n/home/ubuntu/anaconda3/envs/aws_neuron_pytorch_p36/lib/python3.6/site-packages/tornado/gen.py(234): wrapper\n/home/ubuntu/anaconda3/envs/aws_neuron_pytorch_p36/lib/python3.6/site-packages/ipykernel/kernelbase.py(358): process_one\n/home/ubuntu/anaconda3/envs/aws_neuron_pytorch_p36/lib/python3.6/site-packages/tornado/gen.py(775): run\n/home/ubuntu/anaconda3/envs/aws_neuron_pytorch_p36/lib/python3.6/site-packages/contextvars/__init__.py(38): run\n/home/ubuntu/anaconda3/envs/aws_neuron_pytorch_p36/lib/python3.6/site-packages/tornado/gen.py(814): inner\n/home/ubuntu/anaconda3/envs/aws_neuron_pytorch_p36/lib/python3.6/site-packages/tornado/ioloop.py(741): _run_callback\n/home/ubuntu/anaconda3/envs/aws_neuron_pytorch_p36/lib/python3.6/site-packages/tornado/ioloop.py(688): <lambda>\n/home/ubuntu/anaconda3/envs/aws_neuron_pytorch_p36/lib/python3.6/asyncio/events.py(145): _run\n/home/ubuntu/anaconda3/envs/aws_neuron_pytorch_p36/lib/python3.6/asyncio/base_events.py(1462): _run_once\n/home/ubuntu/anaconda3/envs/aws_neuron_pytorch_p36/lib/python3.6/asyncio/base_events.py(442): run_forever\n/home/ubuntu/anaconda3/envs/aws_neuron_pytorch_p36/lib/python3.6/site-packages/tornado/platform/asyncio.py(199): start\n/home/ubuntu/anaconda3/envs/aws_neuron_pytorch_p36/lib/python3.6/site-packages/ipykernel/kernelapp.py(619): start\n/home/ubuntu/anaconda3/envs/aws_neuron_pytorch_p36/lib/python3.6/site-packages/traitlets/config/application.py(664): launch_instance\n/home/ubuntu/anaconda3/envs/aws_neuron_pytorch_p36/lib/python3.6/site-packages/ipykernel_launcher.py(16): <module>\n/home/ubuntu/anaconda3/envs/aws_neuron_pytorch_p36/lib/python3.6/runpy.py(85): _run_code\n/home/ubuntu/anaconda3/envs/aws_neuron_pytorch_p36/lib/python3.6/runpy.py(193): _run_module_as_main\nRuntimeError: The PyTorch Neuron Runtime could not be initialized. Neuron Driver issues are logged\nto your system logs. See the Neuron Runtime's troubleshooting guide for help on this\ntopic: https://awsdocs-neuron.readthedocs-hosted.com/en/latest/\n",
     "output_type": "error",
     "traceback": [
      "\u001b[0;31m---------------------------------------------------------------------------\u001b[0m",
      "\u001b[0;31mRuntimeError\u001b[0m                              Traceback (most recent call last)",
      "\u001b[0;32m<ipython-input-8-c870d3244e44>\u001b[0m in \u001b[0;36m<module>\u001b[0;34m\u001b[0m\n\u001b[1;32m     29\u001b[0m \u001b[0;34m\u001b[0m\u001b[0m\n\u001b[1;32m     30\u001b[0m     \u001b[0mstart\u001b[0m \u001b[0;34m=\u001b[0m \u001b[0mtime\u001b[0m\u001b[0;34m.\u001b[0m\u001b[0mtime\u001b[0m\u001b[0;34m(\u001b[0m\u001b[0;34m)\u001b[0m\u001b[0;34m\u001b[0m\u001b[0;34m\u001b[0m\u001b[0m\n\u001b[0;32m---> 31\u001b[0;31m     \u001b[0mlogits_ts\u001b[0m \u001b[0;34m=\u001b[0m \u001b[0mneuron_model\u001b[0m\u001b[0;34m(\u001b[0m\u001b[0minput_holder\u001b[0m\u001b[0;34m)\u001b[0m\u001b[0;34m\u001b[0m\u001b[0;34m\u001b[0m\u001b[0m\n\u001b[0m\u001b[1;32m     32\u001b[0m     \u001b[0mend_1\u001b[0m \u001b[0;34m=\u001b[0m \u001b[0mtime\u001b[0m\u001b[0;34m.\u001b[0m\u001b[0mtime\u001b[0m\u001b[0;34m(\u001b[0m\u001b[0;34m)\u001b[0m\u001b[0;34m\u001b[0m\u001b[0;34m\u001b[0m\u001b[0m\n\u001b[1;32m     33\u001b[0m     \u001b[0mlogits\u001b[0m \u001b[0;34m=\u001b[0m \u001b[0mparseq\u001b[0m\u001b[0;34m(\u001b[0m\u001b[0minput_holder\u001b[0m\u001b[0;34m)\u001b[0m\u001b[0;34m\u001b[0m\u001b[0;34m\u001b[0m\u001b[0m\n",
      "\u001b[0;32m~/.local/lib/python3.6/site-packages/torch/nn/modules/module.py\u001b[0m in \u001b[0;36m_call_impl\u001b[0;34m(self, *input, **kwargs)\u001b[0m\n\u001b[1;32m   1100\u001b[0m         if not (self._backward_hooks or self._forward_hooks or self._forward_pre_hooks or _global_backward_hooks\n\u001b[1;32m   1101\u001b[0m                 or _global_forward_hooks or _global_forward_pre_hooks):\n\u001b[0;32m-> 1102\u001b[0;31m             \u001b[0;32mreturn\u001b[0m \u001b[0mforward_call\u001b[0m\u001b[0;34m(\u001b[0m\u001b[0;34m*\u001b[0m\u001b[0minput\u001b[0m\u001b[0;34m,\u001b[0m \u001b[0;34m**\u001b[0m\u001b[0mkwargs\u001b[0m\u001b[0;34m)\u001b[0m\u001b[0;34m\u001b[0m\u001b[0;34m\u001b[0m\u001b[0m\n\u001b[0m\u001b[1;32m   1103\u001b[0m         \u001b[0;31m# Do not call functions when jit is used\u001b[0m\u001b[0;34m\u001b[0m\u001b[0;34m\u001b[0m\u001b[0;34m\u001b[0m\u001b[0m\n\u001b[1;32m   1104\u001b[0m         \u001b[0mfull_backward_hooks\u001b[0m\u001b[0;34m,\u001b[0m \u001b[0mnon_full_backward_hooks\u001b[0m \u001b[0;34m=\u001b[0m \u001b[0;34m[\u001b[0m\u001b[0;34m]\u001b[0m\u001b[0;34m,\u001b[0m \u001b[0;34m[\u001b[0m\u001b[0;34m]\u001b[0m\u001b[0;34m\u001b[0m\u001b[0;34m\u001b[0m\u001b[0m\n",
      "\u001b[0;31mRuntimeError\u001b[0m: The following operation failed in the TorchScript interpreter.\nTraceback of TorchScript (most recent call last):\n/home/ubuntu/.local/lib/python3.6/site-packages/torch_neuron/decorators.py(381): forward\n/home/ubuntu/.local/lib/python3.6/site-packages/torch/nn/modules/module.py(1090): _slow_forward\n/home/ubuntu/.local/lib/python3.6/site-packages/torch/nn/modules/module.py(1102): _call_impl\n/home/ubuntu/.local/lib/python3.6/site-packages/torch_neuron/graph.py(580): __call__\n/home/ubuntu/.local/lib/python3.6/site-packages/torch_neuron/graph.py(209): run_op\n/home/ubuntu/.local/lib/python3.6/site-packages/torch_neuron/graph.py(198): __call__\n/home/ubuntu/.local/lib/python3.6/site-packages/torch_neuron/runtime.py(69): forward\n/home/ubuntu/.local/lib/python3.6/site-packages/torch/nn/modules/module.py(1090): _slow_forward\n/home/ubuntu/.local/lib/python3.6/site-packages/torch/nn/modules/module.py(1102): _call_impl\n/home/ubuntu/.local/lib/python3.6/site-packages/torch/jit/_trace.py(965): trace_module\n/home/ubuntu/.local/lib/python3.6/site-packages/torch/jit/_trace.py(750): trace\n/home/ubuntu/.local/lib/python3.6/site-packages/torch_neuron/tensorboard.py(324): tb_parse\n/home/ubuntu/.local/lib/python3.6/site-packages/torch_neuron/tensorboard.py(550): tb_graph\n/home/ubuntu/.local/lib/python3.6/site-packages/torch_neuron/decorators.py(491): maybe_generate_tb_graph_def\n/home/ubuntu/.local/lib/python3.6/site-packages/torch_neuron/convert.py(552): maybe_determine_names_from_tensorboard\n/home/ubuntu/.local/lib/python3.6/site-packages/torch_neuron/convert.py(211): trace\n<ipython-input-5-52d5f6e884d0>(13): <module>\n/home/ubuntu/anaconda3/envs/aws_neuron_pytorch_p36/lib/python3.6/site-packages/IPython/core/interactiveshell.py(3343): run_code\n/home/ubuntu/anaconda3/envs/aws_neuron_pytorch_p36/lib/python3.6/site-packages/IPython/core/interactiveshell.py(3263): run_ast_nodes\n/home/ubuntu/anaconda3/envs/aws_neuron_pytorch_p36/lib/python3.6/site-packages/IPython/core/interactiveshell.py(3072): run_cell_async\n/home/ubuntu/anaconda3/envs/aws_neuron_pytorch_p36/lib/python3.6/site-packages/IPython/core/async_helpers.py(68): _pseudo_sync_runner\n/home/ubuntu/anaconda3/envs/aws_neuron_pytorch_p36/lib/python3.6/site-packages/IPython/core/interactiveshell.py(2895): _run_cell\n/home/ubuntu/anaconda3/envs/aws_neuron_pytorch_p36/lib/python3.6/site-packages/IPython/core/interactiveshell.py(2867): run_cell\n/home/ubuntu/anaconda3/envs/aws_neuron_pytorch_p36/lib/python3.6/site-packages/ipykernel/zmqshell.py(539): run_cell\n/home/ubuntu/anaconda3/envs/aws_neuron_pytorch_p36/lib/python3.6/site-packages/ipykernel/ipkernel.py(302): do_execute\n/home/ubuntu/anaconda3/envs/aws_neuron_pytorch_p36/lib/python3.6/site-packages/contextvars/__init__.py(38): run\n/home/ubuntu/anaconda3/envs/aws_neuron_pytorch_p36/lib/python3.6/site-packages/tornado/gen.py(234): wrapper\n/home/ubuntu/anaconda3/envs/aws_neuron_pytorch_p36/lib/python3.6/site-packages/ipykernel/kernelbase.py(538): execute_request\n/home/ubuntu/anaconda3/envs/aws_neuron_pytorch_p36/lib/python3.6/site-packages/contextvars/__init__.py(38): run\n/home/ubuntu/anaconda3/envs/aws_neuron_pytorch_p36/lib/python3.6/site-packages/tornado/gen.py(234): wrapper\n/home/ubuntu/anaconda3/envs/aws_neuron_pytorch_p36/lib/python3.6/site-packages/ipykernel/kernelbase.py(261): dispatch_shell\n/home/ubuntu/anaconda3/envs/aws_neuron_pytorch_p36/lib/python3.6/site-packages/contextvars/__init__.py(38): run\n/home/ubuntu/anaconda3/envs/aws_neuron_pytorch_p36/lib/python3.6/site-packages/tornado/gen.py(234): wrapper\n/home/ubuntu/anaconda3/envs/aws_neuron_pytorch_p36/lib/python3.6/site-packages/ipykernel/kernelbase.py(358): process_one\n/home/ubuntu/anaconda3/envs/aws_neuron_pytorch_p36/lib/python3.6/site-packages/tornado/gen.py(775): run\n/home/ubuntu/anaconda3/envs/aws_neuron_pytorch_p36/lib/python3.6/site-packages/contextvars/__init__.py(38): run\n/home/ubuntu/anaconda3/envs/aws_neuron_pytorch_p36/lib/python3.6/site-packages/tornado/gen.py(814): inner\n/home/ubuntu/anaconda3/envs/aws_neuron_pytorch_p36/lib/python3.6/site-packages/tornado/ioloop.py(741): _run_callback\n/home/ubuntu/anaconda3/envs/aws_neuron_pytorch_p36/lib/python3.6/site-packages/tornado/ioloop.py(688): <lambda>\n/home/ubuntu/anaconda3/envs/aws_neuron_pytorch_p36/lib/python3.6/asyncio/events.py(145): _run\n/home/ubuntu/anaconda3/envs/aws_neuron_pytorch_p36/lib/python3.6/asyncio/base_events.py(1462): _run_once\n/home/ubuntu/anaconda3/envs/aws_neuron_pytorch_p36/lib/python3.6/asyncio/base_events.py(442): run_forever\n/home/ubuntu/anaconda3/envs/aws_neuron_pytorch_p36/lib/python3.6/site-packages/tornado/platform/asyncio.py(199): start\n/home/ubuntu/anaconda3/envs/aws_neuron_pytorch_p36/lib/python3.6/site-packages/ipykernel/kernelapp.py(619): start\n/home/ubuntu/anaconda3/envs/aws_neuron_pytorch_p36/lib/python3.6/site-packages/traitlets/config/application.py(664): launch_instance\n/home/ubuntu/anaconda3/envs/aws_neuron_pytorch_p36/lib/python3.6/site-packages/ipykernel_launcher.py(16): <module>\n/home/ubuntu/anaconda3/envs/aws_neuron_pytorch_p36/lib/python3.6/runpy.py(85): _run_code\n/home/ubuntu/anaconda3/envs/aws_neuron_pytorch_p36/lib/python3.6/runpy.py(193): _run_module_as_main\nRuntimeError: The PyTorch Neuron Runtime could not be initialized. Neuron Driver issues are logged\nto your system logs. See the Neuron Runtime's troubleshooting guide for help on this\ntopic: https://awsdocs-neuron.readthedocs-hosted.com/en/latest/\n"
     ]
    }
   ],
   "source": [
    "\n",
    "# model_parallel = torch.neuron.DataParallel(neuron_model)\n",
    "\n",
    "img_folder = \"/home/ubuntu/parseq/digits_demo\"\n",
    "\n",
    "input_holder = torch.zeros(batch_size, 3, 32, 128)\n",
    "\n",
    "img_paths = [os.path.join(img_folder, x) for x in os.listdir(img_folder) if x.endswith(\"jpg\")]\n",
    "\n",
    "N = len(img_paths)\n",
    "n_batch = N//batch_size + 1\n",
    "\n",
    "for i in range(n_batch):\n",
    "    # print(list(range((i-1)*batch_size,batch_size*i)))\n",
    "    if batch_size*(i+1) < N:\n",
    "        input_holder = torch.zeros(batch_size, 3, 32, 128)\n",
    "        img_paths_tmp = img_paths[(i)*batch_size:batch_size*(i+1)]\n",
    "    else:\n",
    "        input_holder = torch.zeros(N-(n_batch-1)*batch_size, 3, 32, 128)\n",
    "        img_paths_tmp = img_paths[(i)*batch_size:N]\n",
    "    \n",
    "    print(input_holder.size())\n",
    "    for j in range(len(img_paths_tmp)):\n",
    "                \n",
    "        img_input = Image.open(img_paths_tmp[j]).convert('RGB')\n",
    "        img_input = preprocess_parseq(img_input.convert('RGB'))\n",
    "        # Preprocess. Model expects a batch of images with shape: (B, C, H, W)\n",
    "        \n",
    "        input_holder[j, :, :, :] = img_input[:,:,:]\n",
    "        \n",
    "    start = time.time()\n",
    "    logits_ts = neuron_model(input_holder)\n",
    "    end_1 = time.time()\n",
    "    logits = parseq(input_holder)\n",
    "    end_2 = time.time()\n",
    "\n",
    "    # print(\"parseq\")\n",
    "    # print(end_2-end_1)\n",
    "    # print(\"torchscript\")\n",
    "    # print(end_1-start)\n",
    "    pred = logits.softmax(-1)\n",
    "    label, confidence = parseq.tokenizer.decode(pred)\n",
    "        \n",
    "    pred = logits_ts.softmax(-1)\n",
    "    label_ts, confidence = parseq.tokenizer.decode(pred)\n",
    "    \n",
    "    print(label_ts, label)\n",
    "\n"
   ]
  },
  {
   "cell_type": "markdown",
   "metadata": {},
   "source": []
  },
  {
   "cell_type": "code",
   "execution_count": 46,
   "metadata": {},
   "outputs": [
    {
     "data": {
      "text/plain": [
       "73"
      ]
     },
     "execution_count": 46,
     "metadata": {},
     "output_type": "execute_result"
    }
   ],
   "source": [
    "len(img_paths)"
   ]
  },
  {
   "cell_type": "code",
   "execution_count": null,
   "metadata": {},
   "outputs": [],
   "source": []
  },
  {
   "cell_type": "code",
   "execution_count": null,
   "metadata": {},
   "outputs": [],
   "source": []
  },
  {
   "cell_type": "code",
   "execution_count": null,
   "metadata": {},
   "outputs": [],
   "source": []
  },
  {
   "cell_type": "code",
   "execution_count": null,
   "metadata": {},
   "outputs": [],
   "source": []
  },
  {
   "cell_type": "code",
   "execution_count": null,
   "metadata": {},
   "outputs": [],
   "source": []
  }
 ],
 "metadata": {
  "kernelspec": {
   "display_name": "aws_neuron_pytorch_p36",
   "language": "python",
   "name": "python3"
  },
  "language_info": {
   "codemirror_mode": {
    "name": "ipython",
    "version": 3
   },
   "file_extension": ".py",
   "mimetype": "text/x-python",
   "name": "python",
   "nbconvert_exporter": "python",
   "pygments_lexer": "ipython3",
   "version": "3.6.13"
  },
  "orig_nbformat": 4
 },
 "nbformat": 4,
 "nbformat_minor": 2
}
